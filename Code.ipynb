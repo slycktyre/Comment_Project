{
 "cells": [
  {
   "cell_type": "code",
   "execution_count": 4,
   "metadata": {
    "collapsed": false
   },
   "outputs": [
   ],
   "source": [
    "# Class Summary\n",
    "\n",
    "class_summary='''This semester, we completed units on looping, conditionals, functions, and data structures including lists, sets, and dictionaries. In addition, we completed a statistics-related unit on simulations and plotting. The projects this semester included simulating the game of craps and completing a larger partner project on simulating customer service at a bank. Total of 4 problem sets and 2.'''\n",
    "\n",
    "\n",
    "\n"
   ]
  },
  {
   "cell_type": "code",
   "execution_count": 5,
   "metadata": {
    "collapsed": false
   },
   "outputs": [
    {
     "ename": "NameError",
     "evalue": "name 'com_dict' is not defined",
     "output_type": "error",
     "traceback": [
      "\u001b[0;31m---------------------------------------------------------------------------\u001b[0m",
      "\u001b[0;31mNameError\u001b[0m                                 Traceback (most recent call last)",
      "\u001b[0;32m<ipython-input-5-d8662e4f7f4a>\u001b[0m in \u001b[0;36m<module>\u001b[0;34m\u001b[0m\n\u001b[1;32m     13\u001b[0m \u001b[0;34m\u001b[0m\u001b[0m\n\u001b[1;32m     14\u001b[0m \u001b[0;34m\u001b[0m\u001b[0m\n\u001b[0;32m---> 15\u001b[0;31m \u001b[0mhomework\u001b[0m\u001b[0;34m(\u001b[0m\u001b[0mcom_dict\u001b[0m\u001b[0;34m,\u001b[0m\u001b[0;34m'Ashok'\u001b[0m\u001b[0;34m)\u001b[0m\u001b[0;34m\u001b[0m\u001b[0;34m\u001b[0m\u001b[0m\n\u001b[0m",
      "\u001b[0;31mNameError\u001b[0m: name 'com_dict' is not defined"
     ]
    }
   ],
   "source": [
    "# Homework\n",
    "\n",
    "\n",
    "def homework(d,name):\n",
    "    for student,value in d.items():\n",
    "        if d[name][5] == 'T':\n",
    "            a = f\"{name} has diligently completed the nightly homework and comes to class prepared. \"\n",
    "            hw = 1\n",
    "        elif d[name][5] == 'F':\n",
    "            hw = 0\n",
    "            a = f\"It is sometimes clear that {name} has not completed the homework for that day when {d[name][0]} comes to class, this is definitely something that he should improve on in the future. \"\n",
    "    return (hw,a)\n",
    "\n",
    "\n",
    "homework(com_dict,'Ashok')"
   ]
  },
  {
   "cell_type": "code",
   "execution_count": 6,
   "metadata": {
    "collapsed": false
   },
   "outputs": [
    {
     "ename": "NameError",
     "evalue": "name 'com_dict' is not defined",
     "output_type": "error",
     "traceback": [
      "\u001b[0;31m---------------------------------------------------------------------------\u001b[0m",
      "\u001b[0;31mNameError\u001b[0m                                 Traceback (most recent call last)",
      "\u001b[0;32m<ipython-input-6-a7a9c39ff723>\u001b[0m in \u001b[0;36m<module>\u001b[0;34m\u001b[0m\n\u001b[1;32m     21\u001b[0m \u001b[0;34m\u001b[0m\u001b[0m\n\u001b[1;32m     22\u001b[0m \u001b[0;34m\u001b[0m\u001b[0m\n\u001b[0;32m---> 23\u001b[0;31m \u001b[0mengaged\u001b[0m\u001b[0;34m(\u001b[0m\u001b[0mcom_dict\u001b[0m\u001b[0;34m,\u001b[0m\u001b[0;34m'Peter'\u001b[0m\u001b[0;34m)\u001b[0m\u001b[0;34m\u001b[0m\u001b[0;34m\u001b[0m\u001b[0m\n\u001b[0m",
      "\u001b[0;31mNameError\u001b[0m: name 'com_dict' is not defined"
     ]
    }
   ],
   "source": [
    "# Engagement\n",
    "\n",
    "\n",
    "def engaged(d,name):\n",
    "    for student,value in d.items():\n",
    "        if d[name][3] == 'T' and d[name][4] == 'T':\n",
    "                b = f\"I am glad to say that {d[name][0]} has been very focused and engaged during class. \"\n",
    "                engagement = 1\n",
    "        elif d[name][3] == 'F' and d[name][4] == 'F':\n",
    "                b = f\"{name} has seemed often distracted and unengaged in class. \"\n",
    "                engagement = 0\n",
    "        elif d[name][3] == 'T':\n",
    "            if d[name][4] == 'F':\n",
    "                b = f\"{name} has been focused in class, but often works alone and isn't engaged with the class. \"\n",
    "                engagement = 1\n",
    "        elif d[name][3] == 'F':\n",
    "            if d[name][4] == 'T':\n",
    "                b = f\"{name} is not the most productive during class, but is thouroughly engaged with class discussion. \"\n",
    "                engagement = 0\n",
    "    return (engagement, b)\n",
    "\n",
    "\n",
    "engaged(com_dict,'Peter')"
   ]
  },
  {
   "cell_type": "code",
   "execution_count": 7,
   "metadata": {
    "collapsed": false
   },
   "outputs": [
    {
     "ename": "NameError",
     "evalue": "name 'com_dict' is not defined",
     "output_type": "error",
     "traceback": [
      "\u001b[0;31m---------------------------------------------------------------------------\u001b[0m",
      "\u001b[0;31mNameError\u001b[0m                                 Traceback (most recent call last)",
      "\u001b[0;32m<ipython-input-7-85585a797c57>\u001b[0m in \u001b[0;36m<module>\u001b[0;34m\u001b[0m\n\u001b[1;32m     18\u001b[0m \u001b[0;34m\u001b[0m\u001b[0m\n\u001b[1;32m     19\u001b[0m \u001b[0;34m\u001b[0m\u001b[0m\n\u001b[0;32m---> 20\u001b[0;31m \u001b[0mcollab\u001b[0m\u001b[0;34m(\u001b[0m\u001b[0mcom_dict\u001b[0m\u001b[0;34m,\u001b[0m\u001b[0;34m'Francis'\u001b[0m\u001b[0;34m)\u001b[0m\u001b[0;34m\u001b[0m\u001b[0;34m\u001b[0m\u001b[0m\n\u001b[0m",
      "\u001b[0;31mNameError\u001b[0m: name 'com_dict' is not defined"
     ]
    }
   ],
   "source": [
    "# Collaboration\n",
    "\n",
    "\n",
    "def collab(d,name):\n",
    "    if d[name][6] == 'great':\n",
    "        c = f\"In the classroom, {name} is a great collaborator and I hope to see this aptitude to continue. \"\n",
    "        Collab = 1\n",
    "    elif d[name][6] == 'well':\n",
    "        c = f\"In the classroom, {name} is decent when collaboring and has potential to being even better. \"\n",
    "        Collab = 1\n",
    "    elif d[name][6] == 'barely':\n",
    "        c = f\"In the classroom, {name} seems to be barely trying when collaborating and should improve their attitude in the future. \"\n",
    "        Collab = 0\n",
    "    elif d[name][6] == 'poor':\n",
    "        c = f\"In the classroom, {name}'s collaboration is terrible. I have never seen such disregard to other peers. \"\n",
    "        Collab = 0\n",
    "    return (Collab,c)\n",
    "\n",
    "\n",
    "collab(com_dict,'Francis')"
   ]
  },
  {
   "cell_type": "code",
   "execution_count": 8,
   "metadata": {
    "collapsed": false
   },
   "outputs": [
    {
     "ename": "NameError",
     "evalue": "name 'com_dict' is not defined",
     "output_type": "error",
     "traceback": [
      "\u001b[0;31m---------------------------------------------------------------------------\u001b[0m",
      "\u001b[0;31mNameError\u001b[0m                                 Traceback (most recent call last)",
      "\u001b[0;32m<ipython-input-8-e0ed35654ae3>\u001b[0m in \u001b[0;36m<module>\u001b[0;34m\u001b[0m\n\u001b[1;32m     19\u001b[0m \u001b[0;34m\u001b[0m\u001b[0m\n\u001b[1;32m     20\u001b[0m \u001b[0;34m\u001b[0m\u001b[0m\n\u001b[0;32m---> 21\u001b[0;31m \u001b[0mfirst_sect\u001b[0m\u001b[0;34m(\u001b[0m\u001b[0mcom_dict\u001b[0m\u001b[0;34m,\u001b[0m\u001b[0;34m'Peter'\u001b[0m\u001b[0;34m)\u001b[0m\u001b[0;34m\u001b[0m\u001b[0;34m\u001b[0m\u001b[0m\n\u001b[0m",
      "\u001b[0;31mNameError\u001b[0m: name 'com_dict' is not defined"
     ]
    }
   ],
   "source": [
    "#Section 1\n",
    "\n",
    "\n",
    "def first_sect(d,name):\n",
    "    tuple_time = []\n",
    "    tuple_time.append(homework(d,name))\n",
    "    tuple_time.append(engaged(d,name))\n",
    "    tuple_time.append(collab(d,name))\n",
    "    tuple_time.sort(reverse = True)\n",
    "    section = tuple_time[0][1]\n",
    "    ### Sorting sentences so positives are first followed by a \"However,...\" for the negative comments\n",
    "    for i in range(1,3):\n",
    "        if tuple_time[i][0] == tuple_time[i-1][0]:\n",
    "            section = section + tuple_time[i][1]\n",
    "        if tuple_time[i][0] != tuple_time[i-1][0]:\n",
    "            section = section + f\"However, {tuple_time[i][1].lower()}\"\n",
    "            section = section.replace(name.lower(),name.title())\n",
    "    return section\n",
    "\n",
    "\n",
    "first_sect(com_dict,'Peter')"
   ]
  },
  {
   "cell_type": "code",
   "execution_count": 9,
   "metadata": {
    "collapsed": false
   },
   "outputs": [
    {
     "ename": "NameError",
     "evalue": "name 'com_dict' is not defined",
     "output_type": "error",
     "traceback": [
      "\u001b[0;31m---------------------------------------------------------------------------\u001b[0m",
      "\u001b[0;31mNameError\u001b[0m                                 Traceback (most recent call last)",
      "\u001b[0;32m<ipython-input-9-20f5377d8378>\u001b[0m in \u001b[0;36m<module>\u001b[0;34m\u001b[0m\n\u001b[1;32m     11\u001b[0m \u001b[0;34m\u001b[0m\u001b[0m\n\u001b[1;32m     12\u001b[0m \u001b[0;34m\u001b[0m\u001b[0m\n\u001b[0;32m---> 13\u001b[0;31m \u001b[0mtrend\u001b[0m\u001b[0;34m(\u001b[0m\u001b[0mcom_dict\u001b[0m\u001b[0;34m,\u001b[0m\u001b[0;34m'Ashok'\u001b[0m\u001b[0;34m)\u001b[0m\u001b[0;34m\u001b[0m\u001b[0;34m\u001b[0m\u001b[0m\n\u001b[0m",
      "\u001b[0;31mNameError\u001b[0m: name 'com_dict' is not defined"
     ]
    }
   ],
   "source": [
    "# Trends\n",
    "\n",
    "\n",
    "def trend(d,name):\n",
    "    if d[name][2] == 'increase':\n",
    "        return True\n",
    "    if d[name][2] == 'decrease':\n",
    "        return False\n",
    "    else:\n",
    "        pass\n",
    "\n",
    "\n",
    "trend(com_dict,'Ashok')"
   ]
  },
  {
   "cell_type": "code",
   "execution_count": 10,
   "metadata": {
    "collapsed": false
   },
   "outputs": [
    {
     "ename": "NameError",
     "evalue": "name 'com_dict' is not defined",
     "output_type": "error",
     "traceback": [
      "\u001b[0;31m---------------------------------------------------------------------------\u001b[0m",
      "\u001b[0;31mNameError\u001b[0m                                 Traceback (most recent call last)",
      "\u001b[0;32m<ipython-input-10-0936e88ad167>\u001b[0m in \u001b[0;36m<module>\u001b[0;34m\u001b[0m\n\u001b[1;32m     66\u001b[0m \u001b[0;34m\u001b[0m\u001b[0m\n\u001b[1;32m     67\u001b[0m \u001b[0;34m\u001b[0m\u001b[0m\n\u001b[0;32m---> 68\u001b[0;31m \u001b[0;32mfor\u001b[0m \u001b[0mstudent\u001b[0m \u001b[0;32min\u001b[0m \u001b[0mcom_dict\u001b[0m\u001b[0;34m.\u001b[0m\u001b[0mkeys\u001b[0m\u001b[0;34m(\u001b[0m\u001b[0;34m)\u001b[0m\u001b[0;34m:\u001b[0m\u001b[0;34m\u001b[0m\u001b[0;34m\u001b[0m\u001b[0m\n\u001b[0m\u001b[1;32m     69\u001b[0m     \u001b[0mprint\u001b[0m\u001b[0;34m(\u001b[0m\u001b[0mtest_ave\u001b[0m\u001b[0;34m(\u001b[0m\u001b[0mcom_dict\u001b[0m\u001b[0;34m,\u001b[0m\u001b[0mstudent\u001b[0m\u001b[0;34m)\u001b[0m\u001b[0;34m)\u001b[0m\u001b[0;34m\u001b[0m\u001b[0;34m\u001b[0m\u001b[0m\n",
      "\u001b[0;31mNameError\u001b[0m: name 'com_dict' is not defined"
     ]
    }
   ],
   "source": [
    "# Test Grades\n",
    "\n",
    "\n",
    "def test_ave(d,name):\n",
    "    score = (d[name][15])\n",
    "    final = d[name][14]\n",
    "    first = d[name][11]\n",
    "        # Increase in grades scenarios below\n",
    "    if trend(d,name) == True:\n",
    "        if float(score) >= 90:\n",
    "            t = 1\n",
    "            test = f\"{name} started the semester strong with a {first}% on {d[name][17]} first test, and found room to improve {d[name][17]} coding even more with a {final}% on {d[name][-1]} final, pushing {name}'s average test score to {score}\"\n",
    "        elif float(score) >= 80:\n",
    "            t = 1\n",
    "            test = f\"{name} averages {score}% on tests, and has been improving. I hope to see {d[name][-1]} improvement continue\"\n",
    "        elif float(score) >= 70:\n",
    "            t = 1\n",
    "            test = f\"{name} started off the semester with failing grades, but with diligent work, {d[name][0]} pushed his test average to a C with a {final}% on {d[name][-1]} semester final. I hope to see this improvement continue with weekly meetings during office hours\"\n",
    "        elif float(score) >= 60:\n",
    "            t = 0\n",
    "            test = f\"With a test score average of a D with {score}%, it seems as though {name} lacks a solid grasp of the material\"\n",
    "        elif float(score) >= 0:\n",
    "            t = 0\n",
    "            test = f\"With a failing test score average {score}%, showing an extreme lack of knowledge on material\"\n",
    "    ### Decrease in grades scenarios below\n",
    "    elif trend(d,name) == False:\n",
    "        t = 0\n",
    "        if float(score) >= 90:\n",
    "            t = 1\n",
    "            test = f\"{name} has maintained an A, averaging {score}% on tests. Recently, however, {d[name][0]} has not been performing up to previous standards, scoring a {final}% on the semester final\"\n",
    "        elif float(score) >= 80:\n",
    "            t = 1\n",
    "            test = f\"{name} started off the semester strong with a {first}% on {d[name][17]} first test, but finished with a {final}% on the semester final and a {score}% average\"\n",
    "        elif float(score) >= 70:\n",
    "            t = 0\n",
    "            test = f\"{name} started the semester well with a {first} on {d[name][17]} first test, but fell off, averaging {score}% after getting {final}% on {d[name][-1]} semester final\"\n",
    "        elif float(score) >= 60:\n",
    "            t = 0\n",
    "            test = f\"With a test score average of a D with {score}%, it seems as though {name} lacks a solid grasp of the material\"\n",
    "        elif float(score) >= 0:\n",
    "            t = 0\n",
    "            test = f\"With a failing test score average {score}%, showing an extreme lack of knowledge on material\"\n",
    "    ## Scenarios for same grades thoughout semester below\n",
    "    else:\n",
    "        if float(score) >= 90:\n",
    "            t = 1\n",
    "            test = f\"{name} averages an A with a cumulative {score}% on tests, demonstrating knowledge of the topics covered, which I hope to see continue\"\n",
    "        elif float(score) >= 80:\n",
    "            t = 1\n",
    "            test = f\"{name} averages a B on tests with {score}%, good work, but still a bit to improve on\"\n",
    "        elif float(score) >= 70:\n",
    "            t = 0\n",
    "            test = f\"{name} averages a C on tests with {score}%, showing gaps in {d[name][-1]} knowledge. I look forward to meeting with {name} and seeing {name}'s improvement next semester\"\n",
    "        elif float(score) >= 60:\n",
    "            t = 0\n",
    "            test = f\"With a test score average of a D with {score}%, it seems as though {name} lacks a solid grasp of the material\"\n",
    "        elif float(score) >= 0:\n",
    "            t = 0\n",
    "            test = f\"With a failing test score average {score}%, showing an extreme lack of knowledge on material\"\n",
    "    return (t,test)\n",
    "\n",
    "\n",
    "'''\n",
    "above is the if statement that triggers the grade trends which allows then to reference the specific tests and also make sure to have negative/positive language when approprate.\n",
    "'''\n",
    "\n",
    "\n",
    "for student in com_dict.keys():\n",
    "    print(test_ave(com_dict,student))"
   ]
  },
  {
   "cell_type": "code",
   "execution_count": 11,
   "metadata": {
    "collapsed": false
   },
   "outputs": [
    {
     "ename": "NameError",
     "evalue": "name 'com_dict' is not defined",
     "output_type": "error",
     "traceback": [
      "\u001b[0;31m---------------------------------------------------------------------------\u001b[0m",
      "\u001b[0;31mNameError\u001b[0m                                 Traceback (most recent call last)",
      "\u001b[0;32m<ipython-input-11-10e36e7efa58>\u001b[0m in \u001b[0;36m<module>\u001b[0;34m\u001b[0m\n\u001b[1;32m     28\u001b[0m \u001b[0;34m\u001b[0m\u001b[0m\n\u001b[1;32m     29\u001b[0m \u001b[0;34m\u001b[0m\u001b[0m\n\u001b[0;32m---> 30\u001b[0;31m \u001b[0;32mfor\u001b[0m \u001b[0mstudent\u001b[0m \u001b[0;32min\u001b[0m \u001b[0mcom_dict\u001b[0m\u001b[0;34m.\u001b[0m\u001b[0mkeys\u001b[0m\u001b[0;34m(\u001b[0m\u001b[0;34m)\u001b[0m\u001b[0;34m:\u001b[0m\u001b[0;34m\u001b[0m\u001b[0;34m\u001b[0m\u001b[0m\n\u001b[0m\u001b[1;32m     31\u001b[0m     \u001b[0mprint\u001b[0m\u001b[0;34m(\u001b[0m\u001b[0;34mf\"{problem_ave(com_dict,student)}\\n\"\u001b[0m\u001b[0;34m)\u001b[0m\u001b[0;34m\u001b[0m\u001b[0;34m\u001b[0m\u001b[0m\n",
      "\u001b[0;31mNameError\u001b[0m: name 'com_dict' is not defined"
     ]
    }
   ],
   "source": [
    "# Problem Set score Average\n",
    "\n",
    "\n",
    "def problem_ave(d,name):\n",
    "    score = d[name][16]\n",
    "    final = d[name][14]\n",
    "    first = d[name][11]\n",
    "    pronoun = d[name][0]\n",
    "    if float(score) >= 90:\n",
    "        positive = 1\n",
    "        ps = f\"{pronoun} averaged an {score}% on unit problem sets, showing {d[name][-1]} impressive ability to apply what {pronoun} learned to complicated problems\"\n",
    "    elif float(score) >= 80:\n",
    "        positive = 1\n",
    "        ps = f\"{pronoun} averaged an {score}% on unit problem sets, showing {d[name][-1]} ability to apply most material covered to complicated problems. However, {d[name][-1]} still has room for improvement\"\n",
    "    elif float(score) >= 70:\n",
    "        positive = 0\n",
    "        ps = f\"{pronoun} averaged an {score}% on unit problem sets, showing that {pronoun} struggles to apply concepts covered in class to more complicated problems. {name} should meet with me more often in the second semester with questions about the problem set\"\n",
    "    elif float(score) >= 0:\n",
    "        positive = 0\n",
    "        ps = f\"{pronoun} averaged an {score}% on unit problem sets, showing {d[name][-1]} inability to apply what {pronoun} learned to more complicated problems. {name} should definitely meet with me at least twice a week to discuss coding problems\"\n",
    "    return (positive,ps)\n",
    "\n",
    "\n",
    "'''\n",
    "above is the if statement that triggers the grade trends which allows then to reference the specific tests \n",
    "and also make sure to have negative/positive language when appropriate\n",
    "'''\n",
    "\n",
    "\n",
    "for student in com_dict.keys():\n",
    "    print(f\"{problem_ave(com_dict,student)}\\n\")"
   ]
  },
  {
   "cell_type": "code",
   "execution_count": 75,
   "metadata": {
    "collapsed": false
   },
   "outputs": [
    {
     "name": "stdout",
     "output_type": "stream",
     "text": [
      "Pranav started off the semester strong with a 93% on his first test, but finished with a 79% on the semester final and a 82.75% average. In addition, he averaged an 85.25% on unit problem sets, showing his ability to apply most material covered to complicated problems. However, his still has room for improvement.\n",
      "\n",
      "With a test score average of a D with 60.25%, it seems as though Andy lacks a solid grasp of the material. In addition, he averaged an 69.75% on unit problem sets, showing his inability to apply what he learned to more complicated problems. Andy should definitely meet with me at least twice a week to discuss coding problems.\n",
      "\n",
      "Sam started the semester strong with a 90% on his first test, and found room to improve his coding even more with a 94% on his final, pushing Sam's average test score to 91.25. In addition, he averaged an 88.5% on unit problem sets, showing his ability to apply most material covered to complicated problems. However, his still has room for improvement.\n",
      "\n",
      "Don Cheedle averages an A with a cumulative 94.75% on tests, demonstrating knowledge of the topics covered, which I hope to see continue. In addition, he averaged an 92.25% on unit problem sets, showing his impressive ability to apply what he learned to complicated problems.\n",
      "\n",
      "Alden averages an A with a cumulative 91.5% on tests, demonstrating knowledge of the topics covered, which I hope to see continue. In addition, he averaged an 91% on unit problem sets, showing his impressive ability to apply what he learned to complicated problems.\n",
      "\n",
      "Ashok started off the semester with failing grades, but with diligent work, he pushed his test average to a C with a 91% on his semester final. I hope to see this improvement continue with weekly meetings during office hours. However, he averaged an 67% on unit problem sets, showing his inability to apply what he learned to more complicated problems. Ashok should definitely meet with me at least twice a week to discuss coding problems.\n",
      "\n",
      "Peter averages an A with a cumulative 100% on tests, demonstrating knowledge of the topics covered, which I hope to see continue. In addition, he averaged an 100% on unit problem sets, showing his impressive ability to apply what he learned to complicated problems.\n",
      "\n",
      "With a test score average of a D with 64.75%, it seems as though Billy lacks a solid grasp of the material. In addition, she averaged an 66.5% on unit problem sets, showing her inability to apply what she learned to more complicated problems. Billy should definitely meet with me at least twice a week to discuss coding problems.\n",
      "\n",
      "Francis averages a B on tests with 85.25%, good work, but still a bit to improve on. In addition, she averaged an 85.5% on unit problem sets, showing her ability to apply most material covered to complicated problems. However, her still has room for improvement.\n",
      "\n",
      "L. Ron Hubbard averages an A with a cumulative 100% on tests, demonstrating knowledge of the topics covered, which I hope to see continue. In addition, he averaged an 100% on unit problem sets, showing his impressive ability to apply what he learned to complicated problems.\n",
      "\n",
      "Snoop D.O.G.G averages 81.25% on tests, and has been improving. I hope to see his improvement continue. In addition, he averaged an 80.5% on unit problem sets, showing his ability to apply most material covered to complicated problems. However, his still has room for improvement.\n",
      "\n"
     ]
    }
   ],
   "source": [
    "# Section 2\n",
    "\n",
    "\n",
    "def second_sect(d,name):\n",
    "    tuple_time = []\n",
    "    tuple_time.append(test_ave(d,name))\n",
    "    tuple_time.append(problem_ave(d,name))\n",
    "    if test_ave(d,name)[0] == problem_ave(d,name)[0]:\n",
    "        return f\"{test_ave(d,name)[1]}. In addition, {problem_ave(d,name)[1]}.\"\n",
    "    if test_ave(d,name)[0] != problem_ave(d,name)[0]:\n",
    "        return f\"{test_ave(d,name)[1]}. However, {problem_ave(d,name)[1]}.\"\n",
    "\n",
    "\n",
    "for student in com_dict.keys():\n",
    "    print(f\"{second_sect(com_dict,student)}\\n\")"
   ]
  },
  {
   "cell_type": "code",
   "execution_count": 1,
   "metadata": {
    "collapsed": false
   },
   "outputs": [
    {
     "ename": "NameError",
     "evalue": "name 'com_dict' is not defined",
     "output_type": "error",
     "traceback": [
      "\u001b[0;31m---------------------------------------------------------------------------\u001b[0m",
      "\u001b[0;31mNameError\u001b[0m                                 Traceback (most recent call last)",
      "\u001b[0;32m<ipython-input-1-4068881ca794>\u001b[0m in \u001b[0;36m<module>\u001b[0;34m\u001b[0m\n\u001b[1;32m     19\u001b[0m \u001b[0;34m\u001b[0m\u001b[0m\n\u001b[1;32m     20\u001b[0m \u001b[0;34m\u001b[0m\u001b[0m\n\u001b[0;32m---> 21\u001b[0;31m \u001b[0;32mfor\u001b[0m \u001b[0mstudent\u001b[0m \u001b[0;32min\u001b[0m \u001b[0mcom_dict\u001b[0m\u001b[0;34m.\u001b[0m\u001b[0mkeys\u001b[0m\u001b[0;34m(\u001b[0m\u001b[0;34m)\u001b[0m\u001b[0;34m:\u001b[0m\u001b[0;34m\u001b[0m\u001b[0;34m\u001b[0m\u001b[0m\n\u001b[0m\u001b[1;32m     22\u001b[0m     \u001b[0mprint\u001b[0m\u001b[0;34m(\u001b[0m\u001b[0mconclusion\u001b[0m\u001b[0;34m(\u001b[0m\u001b[0mcom_dict\u001b[0m\u001b[0;34m,\u001b[0m\u001b[0mstudent\u001b[0m\u001b[0;34m)\u001b[0m\u001b[0;34m)\u001b[0m\u001b[0;34m\u001b[0m\u001b[0;34m\u001b[0m\u001b[0m\n",
      "\u001b[0;31mNameError\u001b[0m: name 'com_dict' is not defined"
     ]
    }
   ],
   "source": [
    "# Conclusion\n",
    "\n",
    "\n",
    "def conclusion(d,name):\n",
    "    pronoun = d[name][0]\n",
    "    con=''\n",
    "    opener = f\"The first semester of Computer Science can be very intense to those who are new to the subject, \"\n",
    "    #if 5-engagement and 6-homework\n",
    "    if d[name][4] == 'T' and d[name][5] == 'T':\n",
    "        con  = f\"and {name}'s consistant work and engament is extremely promising. {pronoun.upper()} shows consistant engament inside the classroom but outside as well with {d[name][-1]} homework. I am very pleased with {name}'s efforts and I am pleased with the semester as a whole. \"\n",
    "    elif d[name][5] == 'F' and d[name][4] == 'T':\n",
    "        con = f\"{name} seem enthusiastic to learn the topic while in the classroom but the serious lack of homework counters what seems to be a possible outlet. I hope that if there is anything I can do, help let me know and I hope the best for {name}'s future studies. \"\n",
    "    elif d[name][5] == 'T' and d[name][4] == 'F':\n",
    "        con = f\" and {name}'s homework assignments are very thorough, expressing a well balanced understanding of the assignments, however the productive attitude of {d[name][-1]} is lacking in the classroom. I hope in the future that {pronoun} takes class time more seriously if homework is to indicate some sort of intrest. \"\n",
    "    else:\n",
    "        con = f\"and {name}'s consistant lack of care for {d[name][-1]} work is very concerning, not only lacking respect to my class in class but also lacking any desire to learn. I am very disappointed with {name}'s efforts and I am very unhappy with the semester as a whole. \"\n",
    "    x = f\"For this semester, {name} is given a {d[name][1]}.\"\n",
    "    return opener + con + x\n",
    "\n",
    "\n",
    "for student in com_dict.keys():\n",
    "    print(conclusion(com_dict,student))"
   ]
  },
  {
   "cell_type": "code",
   "execution_count": 77,
   "metadata": {
    "collapsed": false
   },
   "outputs": [
   ],
   "source": [
    "# Final ~student's comment writing within for loop~\n",
    "\n",
    "\n",
    "for student in com_dict.keys():\n",
    "    x = f\"{class_summary}\\n\\n{first_sect(com_dict,student)}\\n\\n{second_sect(com_dict,student)}\\n\\n{conclusion(com_dict,student)}\"\n",
    "    f = open(f\"{student}.txt\",\"w\")\n",
    "    f.write(x)\n",
    "    f.close()"
   ]
  },
  {
   "cell_type": "code",
   "execution_count": 12,
   "metadata": {
    "collapsed": false
   },
   "outputs": [
    {
     "name": "stdout",
     "output_type": "stream",
     "text": [
      "This semester, we completed units on looping, conditionals, functions, and data structures including lists, sets, and dictionaries. In addition, we completed a statistics-related unit on simulations and plotting. The projects this semester included simulating the game of craps and completing a larger partner project on simulating customer service at a bank. Total of 4 problem sets and 2.\n",
      "\n",
      "Pranav has been focused in class, but often works alone and isn't engaged with the class. However, it is sometimes clear that Pranav has not completed the homework for that day when he comes to class, this is definitely something that he should improve on in the future. In the classroom, Pranav seems to be barely trying when collaborating and should improve their attitude in the future.\n",
      "\n",
      "Pranav started off the semester strong with a 93% on his first test, but finished with a 79% on the semester final and a 82.75% average. In addition, he averaged an 85.25% on unit problem sets, showing his ability to apply most material covered to complicated problems. However, his still has room for improvement.\n",
      "\n",
      "The first semester of comperter science can be very intense to those who are new to the subject, and Pranav's consistant lack of care for his work is very concerning, not only lacking respect to my class in class but also lacking any desire to learn. I am very disappointed with Pranav's efforts and I am very unhappy with the semester as a whole. For this semester, Pranav is given a B.\n"
     ]
    }
   ],
   "source": [
    "# Final Test : ~Passed~\n",
    "\n",
    "\n",
    "with open('Pranav.txt') as pranav:\n",
    "    for line in pranav:\n",
    "        print(line.strip())"
   ]
  },
  {
   "cell_type": "code",
   "execution_count": 0,
   "metadata": {
    "collapsed": false
   },
   "outputs": [
   ],
   "source": [
   ]
  }
 ],
 "metadata": {
  "kernelspec": {
   "display_name": "Python 3 (system-wide)",
   "language": "python",
   "metadata": {
    "cocalc": {
     "description": "Python 3 programming language",
     "priority": 100,
     "url": "https://www.python.org/"
    }
   },
   "name": "python3"
  },
  "language_info": {
   "codemirror_mode": {
    "name": "ipython",
    "version": 3
   },
   "file_extension": ".py",
   "mimetype": "text/x-python",
   "name": "python",
   "nbconvert_exporter": "python",
   "pygments_lexer": "ipython3",
   "version": "3.6.9"
  }
 },
 "nbformat": 4,
 "nbformat_minor": 0
}